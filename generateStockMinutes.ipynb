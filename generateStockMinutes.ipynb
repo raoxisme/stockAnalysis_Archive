{
 "cells": [
  {
   "cell_type": "code",
   "execution_count": 1,
   "metadata": {},
   "outputs": [
    {
     "name": "stdout",
     "output_type": "stream",
     "text": [
      ">>>processing  600519\n",
      "2036 rows generated for  600519\n",
      "done\n"
     ]
    }
   ],
   "source": [
    "import tushare as ts\n",
    "import datetime \n",
    "\n",
    "cons = ts.get_apis()\n",
    "\n",
    "universe = [ ('000651', u'格力电器') ,('600588', u'用友网络'),('600489', u'中金黄金'),('000333', u'美的集团') ,('600519', u'贵州茅台') ,('601398', u'工商银行')]\n",
    "\n",
    "# universe = [  ('600519', u'贵州茅台') ]\n",
    "\n",
    "def generateETF(STOCK):\n",
    "    print '>>>processing ', STOCK[0:6]\n",
    "    df = ts.bar(STOCK, conn=cons, freq='30min', factors=['vr'], start_date='20171010')\n",
    "    df = df.reset_index()\n",
    "    df.rename(columns={'open': 'openPrice', 'close': 'closePrice', 'high': 'highPrice', 'low': 'lowPrice', 'vol': 'turnoverVol','amount':'turnoverValue'} ,inplace=True)\n",
    "    df.rename(columns={'datetime': 'TradeDatetime' ,'code': 'ticker' } ,inplace=True)\n",
    "\n",
    "    df['tradeDateStr'] = df['TradeDatetime'].astype(str)\n",
    "    df['tradeDT'] = df['tradeDateStr'].map(lambda x: datetime.datetime.strptime(x,'%Y-%m-%d %H:%M:%S' ))\n",
    "    df.set_index('tradeDT', inplace=True)\n",
    "\n",
    "    df['tradeDate'] = df['tradeDateStr'].apply(lambda x: x[0:10])\n",
    "    df['tradeHour'] = df['tradeDateStr'].apply(lambda x: x[11:13])\n",
    "    df['tradeMin'] = df['tradeDateStr'].apply(lambda x: x[14:16])\n",
    "\n",
    "    del df['TradeDatetime']\n",
    "    df.head(10)\n",
    "\n",
    "    df.to_csv( './rtdata/stock/' + STOCK[0:6] + '_min30.csv')\n",
    "    print len(df), 'rows generated for ', STOCK[0:6]\n",
    "    \n",
    "for item in universe:    \n",
    "    generateETF(item[0])\n",
    "    \n",
    "print 'done'\n",
    "\n",
    "# import zipfile  \n",
    "# import os\n",
    "# f = zipfile.ZipFile('./rtdata/etf.zip','w',zipfile.ZIP_DEFLATED)  \n",
    "# startdir = \"./rtdata/etf/\"  \n",
    "# for dirpath, dirnames, filenames in os.walk(startdir):  \n",
    "#     print dirpath, dirnames, filenames\n",
    "#     for filename in filenames:  \n",
    "#         f.write(os.path.join(dirpath,filename))  \n",
    "# f.close()  "
   ]
  }
 ],
 "metadata": {
  "kernelspec": {
   "display_name": "Python 2",
   "language": "python",
   "name": "python2"
  },
  "language_info": {
   "codemirror_mode": {
    "name": "ipython",
    "version": 2
   },
   "file_extension": ".py",
   "mimetype": "text/x-python",
   "name": "python",
   "nbconvert_exporter": "python",
   "pygments_lexer": "ipython2",
   "version": "2.7.15"
  }
 },
 "nbformat": 4,
 "nbformat_minor": 2
}
